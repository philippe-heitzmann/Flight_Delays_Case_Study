{
 "cells": [
  {
   "cell_type": "markdown",
   "id": "discrete-japanese",
   "metadata": {},
   "source": [
    "## Build a model to predict whether a flight will be canceled."
   ]
  },
  {
   "cell_type": "code",
   "execution_count": 132,
   "id": "pacific-swimming",
   "metadata": {},
   "outputs": [],
   "source": [
    "#libraries\n",
    "import pandas as pd \n",
    "import numpy as np \n",
    "import matplotlib.pyplot as plt\n",
    "import seaborn as sns\n",
    "from sklearn.linear_model import LogisticRegression, LogisticRegressionCV\n",
    "from sklearn.model_selection import train_test_split\n",
    "from sklearn.model_selection import cross_val_score\n",
    "from sklearn.ensemble import RandomForestClassifier\n",
    "from xgboost import XGBClassifier\n",
    "from sklearn.metrics import confusion_matrix\n",
    "from sklearn.metrics import confusion_matrix, roc_curve, f1_score\n",
    "from scipy.stats import f_oneway\n"
   ]
  },
  {
   "cell_type": "code",
   "execution_count": 70,
   "id": "sustained-poverty",
   "metadata": {},
   "outputs": [],
   "source": [
    "#importing data\n",
    "columns_list = ['Canceled','Month','DepartureTime','UniqueCarrier','SchedElapsedTime',\n",
    "                'ArrDelay','DepDelay','Distance']\n",
    "fd = pd.read_csv('Data_Predicting_Flight_Delays.csv', sep = ',', names = columns_list)"
   ]
  },
  {
   "cell_type": "code",
   "execution_count": 71,
   "id": "wireless-diversity",
   "metadata": {},
   "outputs": [
    {
     "data": {
      "text/html": [
       "<div>\n",
       "<style scoped>\n",
       "    .dataframe tbody tr th:only-of-type {\n",
       "        vertical-align: middle;\n",
       "    }\n",
       "\n",
       "    .dataframe tbody tr th {\n",
       "        vertical-align: top;\n",
       "    }\n",
       "\n",
       "    .dataframe thead th {\n",
       "        text-align: right;\n",
       "    }\n",
       "</style>\n",
       "<table border=\"1\" class=\"dataframe\">\n",
       "  <thead>\n",
       "    <tr style=\"text-align: right;\">\n",
       "      <th></th>\n",
       "      <th>Canceled</th>\n",
       "      <th>Month</th>\n",
       "      <th>DepartureTime</th>\n",
       "      <th>UniqueCarrier</th>\n",
       "      <th>SchedElapsedTime</th>\n",
       "      <th>ArrDelay</th>\n",
       "      <th>DepDelay</th>\n",
       "      <th>Distance</th>\n",
       "    </tr>\n",
       "  </thead>\n",
       "  <tbody>\n",
       "    <tr>\n",
       "      <th>0</th>\n",
       "      <td>1</td>\n",
       "      <td>12</td>\n",
       "      <td>814</td>\n",
       "      <td>UA</td>\n",
       "      <td>134</td>\n",
       "      <td>0</td>\n",
       "      <td>0</td>\n",
       "      <td>679</td>\n",
       "    </tr>\n",
       "    <tr>\n",
       "      <th>1</th>\n",
       "      <td>1</td>\n",
       "      <td>12</td>\n",
       "      <td>830</td>\n",
       "      <td>DL</td>\n",
       "      <td>90</td>\n",
       "      <td>0</td>\n",
       "      <td>0</td>\n",
       "      <td>214</td>\n",
       "    </tr>\n",
       "    <tr>\n",
       "      <th>2</th>\n",
       "      <td>1</td>\n",
       "      <td>1</td>\n",
       "      <td>1835</td>\n",
       "      <td>UA</td>\n",
       "      <td>213</td>\n",
       "      <td>0</td>\n",
       "      <td>0</td>\n",
       "      <td>1605</td>\n",
       "    </tr>\n",
       "    <tr>\n",
       "      <th>3</th>\n",
       "      <td>1</td>\n",
       "      <td>4</td>\n",
       "      <td>1730</td>\n",
       "      <td>AA</td>\n",
       "      <td>80</td>\n",
       "      <td>0</td>\n",
       "      <td>0</td>\n",
       "      <td>235</td>\n",
       "    </tr>\n",
       "    <tr>\n",
       "      <th>4</th>\n",
       "      <td>1</td>\n",
       "      <td>7</td>\n",
       "      <td>1442</td>\n",
       "      <td>UA</td>\n",
       "      <td>103</td>\n",
       "      <td>0</td>\n",
       "      <td>0</td>\n",
       "      <td>413</td>\n",
       "    </tr>\n",
       "    <tr>\n",
       "      <th>5</th>\n",
       "      <td>1</td>\n",
       "      <td>2</td>\n",
       "      <td>820</td>\n",
       "      <td>DL</td>\n",
       "      <td>119</td>\n",
       "      <td>0</td>\n",
       "      <td>0</td>\n",
       "      <td>692</td>\n",
       "    </tr>\n",
       "    <tr>\n",
       "      <th>6</th>\n",
       "      <td>1</td>\n",
       "      <td>1</td>\n",
       "      <td>1430</td>\n",
       "      <td>DL</td>\n",
       "      <td>70</td>\n",
       "      <td>0</td>\n",
       "      <td>0</td>\n",
       "      <td>214</td>\n",
       "    </tr>\n",
       "    <tr>\n",
       "      <th>7</th>\n",
       "      <td>1</td>\n",
       "      <td>4</td>\n",
       "      <td>930</td>\n",
       "      <td>AA</td>\n",
       "      <td>155</td>\n",
       "      <td>0</td>\n",
       "      <td>0</td>\n",
       "      <td>1062</td>\n",
       "    </tr>\n",
       "    <tr>\n",
       "      <th>8</th>\n",
       "      <td>1</td>\n",
       "      <td>4</td>\n",
       "      <td>1550</td>\n",
       "      <td>AA</td>\n",
       "      <td>130</td>\n",
       "      <td>0</td>\n",
       "      <td>0</td>\n",
       "      <td>813</td>\n",
       "    </tr>\n",
       "    <tr>\n",
       "      <th>9</th>\n",
       "      <td>1</td>\n",
       "      <td>6</td>\n",
       "      <td>1725</td>\n",
       "      <td>DL</td>\n",
       "      <td>118</td>\n",
       "      <td>0</td>\n",
       "      <td>0</td>\n",
       "      <td>533</td>\n",
       "    </tr>\n",
       "    <tr>\n",
       "      <th>10</th>\n",
       "      <td>1</td>\n",
       "      <td>3</td>\n",
       "      <td>1615</td>\n",
       "      <td>AA</td>\n",
       "      <td>100</td>\n",
       "      <td>0</td>\n",
       "      <td>0</td>\n",
       "      <td>551</td>\n",
       "    </tr>\n",
       "    <tr>\n",
       "      <th>11</th>\n",
       "      <td>1</td>\n",
       "      <td>4</td>\n",
       "      <td>1010</td>\n",
       "      <td>AA</td>\n",
       "      <td>125</td>\n",
       "      <td>0</td>\n",
       "      <td>0</td>\n",
       "      <td>732</td>\n",
       "    </tr>\n",
       "    <tr>\n",
       "      <th>12</th>\n",
       "      <td>1</td>\n",
       "      <td>9</td>\n",
       "      <td>1319</td>\n",
       "      <td>DL</td>\n",
       "      <td>131</td>\n",
       "      <td>0</td>\n",
       "      <td>0</td>\n",
       "      <td>732</td>\n",
       "    </tr>\n",
       "    <tr>\n",
       "      <th>13</th>\n",
       "      <td>1</td>\n",
       "      <td>4</td>\n",
       "      <td>1755</td>\n",
       "      <td>AA</td>\n",
       "      <td>175</td>\n",
       "      <td>0</td>\n",
       "      <td>0</td>\n",
       "      <td>1012</td>\n",
       "    </tr>\n",
       "    <tr>\n",
       "      <th>14</th>\n",
       "      <td>1</td>\n",
       "      <td>4</td>\n",
       "      <td>820</td>\n",
       "      <td>AA</td>\n",
       "      <td>140</td>\n",
       "      <td>0</td>\n",
       "      <td>0</td>\n",
       "      <td>927</td>\n",
       "    </tr>\n",
       "    <tr>\n",
       "      <th>15</th>\n",
       "      <td>1</td>\n",
       "      <td>1</td>\n",
       "      <td>1955</td>\n",
       "      <td>AA</td>\n",
       "      <td>60</td>\n",
       "      <td>0</td>\n",
       "      <td>0</td>\n",
       "      <td>190</td>\n",
       "    </tr>\n",
       "    <tr>\n",
       "      <th>16</th>\n",
       "      <td>1</td>\n",
       "      <td>11</td>\n",
       "      <td>1850</td>\n",
       "      <td>DL</td>\n",
       "      <td>90</td>\n",
       "      <td>0</td>\n",
       "      <td>0</td>\n",
       "      <td>403</td>\n",
       "    </tr>\n",
       "    <tr>\n",
       "      <th>17</th>\n",
       "      <td>1</td>\n",
       "      <td>12</td>\n",
       "      <td>710</td>\n",
       "      <td>AA</td>\n",
       "      <td>245</td>\n",
       "      <td>0</td>\n",
       "      <td>0</td>\n",
       "      <td>1515</td>\n",
       "    </tr>\n",
       "    <tr>\n",
       "      <th>18</th>\n",
       "      <td>1</td>\n",
       "      <td>7</td>\n",
       "      <td>913</td>\n",
       "      <td>UA</td>\n",
       "      <td>86</td>\n",
       "      <td>0</td>\n",
       "      <td>0</td>\n",
       "      <td>419</td>\n",
       "    </tr>\n",
       "    <tr>\n",
       "      <th>19</th>\n",
       "      <td>1</td>\n",
       "      <td>10</td>\n",
       "      <td>1740</td>\n",
       "      <td>AA</td>\n",
       "      <td>245</td>\n",
       "      <td>0</td>\n",
       "      <td>0</td>\n",
       "      <td>1389</td>\n",
       "    </tr>\n",
       "  </tbody>\n",
       "</table>\n",
       "</div>"
      ],
      "text/plain": [
       "    Canceled  Month  DepartureTime UniqueCarrier  SchedElapsedTime  ArrDelay  \\\n",
       "0          1     12            814            UA               134         0   \n",
       "1          1     12            830            DL                90         0   \n",
       "2          1      1           1835            UA               213         0   \n",
       "3          1      4           1730            AA                80         0   \n",
       "4          1      7           1442            UA               103         0   \n",
       "5          1      2            820            DL               119         0   \n",
       "6          1      1           1430            DL                70         0   \n",
       "7          1      4            930            AA               155         0   \n",
       "8          1      4           1550            AA               130         0   \n",
       "9          1      6           1725            DL               118         0   \n",
       "10         1      3           1615            AA               100         0   \n",
       "11         1      4           1010            AA               125         0   \n",
       "12         1      9           1319            DL               131         0   \n",
       "13         1      4           1755            AA               175         0   \n",
       "14         1      4            820            AA               140         0   \n",
       "15         1      1           1955            AA                60         0   \n",
       "16         1     11           1850            DL                90         0   \n",
       "17         1     12            710            AA               245         0   \n",
       "18         1      7            913            UA                86         0   \n",
       "19         1     10           1740            AA               245         0   \n",
       "\n",
       "    DepDelay  Distance  \n",
       "0          0       679  \n",
       "1          0       214  \n",
       "2          0      1605  \n",
       "3          0       235  \n",
       "4          0       413  \n",
       "5          0       692  \n",
       "6          0       214  \n",
       "7          0      1062  \n",
       "8          0       813  \n",
       "9          0       533  \n",
       "10         0       551  \n",
       "11         0       732  \n",
       "12         0       732  \n",
       "13         0      1012  \n",
       "14         0       927  \n",
       "15         0       190  \n",
       "16         0       403  \n",
       "17         0      1515  \n",
       "18         0       419  \n",
       "19         0      1389  "
      ]
     },
     "execution_count": 71,
     "metadata": {},
     "output_type": "execute_result"
    }
   ],
   "source": [
    "#visualizing \n",
    "fd.head(20)"
   ]
  },
  {
   "cell_type": "code",
   "execution_count": null,
   "id": "physical-purpose",
   "metadata": {},
   "outputs": [],
   "source": [
    "#Exploratory Data Analysis - checking for data leakage "
   ]
  },
  {
   "cell_type": "code",
   "execution_count": 5,
   "id": "agricultural-donor",
   "metadata": {},
   "outputs": [
    {
     "data": {
      "text/plain": [
       "Canceled\n",
       "0    10.9594\n",
       "1     0.0960\n",
       "Name: DepDelay, dtype: float64"
      ]
     },
     "execution_count": 5,
     "metadata": {},
     "output_type": "execute_result"
    }
   ],
   "source": [
    "fd.groupby('Canceled')['DepDelay'].mean()"
   ]
  },
  {
   "cell_type": "code",
   "execution_count": 6,
   "id": "eleven-hunger",
   "metadata": {},
   "outputs": [
    {
     "data": {
      "text/plain": [
       "Canceled\n",
       "0    9.7356\n",
       "1    0.0000\n",
       "Name: ArrDelay, dtype: float64"
      ]
     },
     "execution_count": 6,
     "metadata": {},
     "output_type": "execute_result"
    }
   ],
   "source": [
    "fd.groupby('Canceled')['ArrDelay'].mean()"
   ]
  },
  {
   "cell_type": "code",
   "execution_count": 7,
   "id": "russian-import",
   "metadata": {},
   "outputs": [
    {
     "data": {
      "text/html": [
       "<div>\n",
       "<style scoped>\n",
       "    .dataframe tbody tr th:only-of-type {\n",
       "        vertical-align: middle;\n",
       "    }\n",
       "\n",
       "    .dataframe tbody tr th {\n",
       "        vertical-align: top;\n",
       "    }\n",
       "\n",
       "    .dataframe thead th {\n",
       "        text-align: right;\n",
       "    }\n",
       "</style>\n",
       "<table border=\"1\" class=\"dataframe\">\n",
       "  <thead>\n",
       "    <tr style=\"text-align: right;\">\n",
       "      <th></th>\n",
       "      <th>Canceled</th>\n",
       "      <th>Month</th>\n",
       "      <th>DepartureTime</th>\n",
       "      <th>UniqueCarrier</th>\n",
       "      <th>SchedElapsedTime</th>\n",
       "      <th>ArrDelay</th>\n",
       "      <th>DepDelay</th>\n",
       "      <th>Distance</th>\n",
       "    </tr>\n",
       "  </thead>\n",
       "  <tbody>\n",
       "    <tr>\n",
       "      <th>48</th>\n",
       "      <td>1</td>\n",
       "      <td>12</td>\n",
       "      <td>1844</td>\n",
       "      <td>UA</td>\n",
       "      <td>187</td>\n",
       "      <td>0</td>\n",
       "      <td>46</td>\n",
       "      <td>1197</td>\n",
       "    </tr>\n",
       "    <tr>\n",
       "      <th>307</th>\n",
       "      <td>1</td>\n",
       "      <td>12</td>\n",
       "      <td>2240</td>\n",
       "      <td>DL</td>\n",
       "      <td>57</td>\n",
       "      <td>0</td>\n",
       "      <td>13</td>\n",
       "      <td>215</td>\n",
       "    </tr>\n",
       "    <tr>\n",
       "      <th>409</th>\n",
       "      <td>1</td>\n",
       "      <td>10</td>\n",
       "      <td>759</td>\n",
       "      <td>UA</td>\n",
       "      <td>281</td>\n",
       "      <td>0</td>\n",
       "      <td>14</td>\n",
       "      <td>1619</td>\n",
       "    </tr>\n",
       "    <tr>\n",
       "      <th>540</th>\n",
       "      <td>1</td>\n",
       "      <td>12</td>\n",
       "      <td>1445</td>\n",
       "      <td>AA</td>\n",
       "      <td>60</td>\n",
       "      <td>0</td>\n",
       "      <td>3</td>\n",
       "      <td>190</td>\n",
       "    </tr>\n",
       "    <tr>\n",
       "      <th>550</th>\n",
       "      <td>1</td>\n",
       "      <td>12</td>\n",
       "      <td>1055</td>\n",
       "      <td>DL</td>\n",
       "      <td>158</td>\n",
       "      <td>0</td>\n",
       "      <td>41</td>\n",
       "      <td>950</td>\n",
       "    </tr>\n",
       "  </tbody>\n",
       "</table>\n",
       "</div>"
      ],
      "text/plain": [
       "     Canceled  Month  DepartureTime UniqueCarrier  SchedElapsedTime  ArrDelay  \\\n",
       "48          1     12           1844            UA               187         0   \n",
       "307         1     12           2240            DL                57         0   \n",
       "409         1     10            759            UA               281         0   \n",
       "540         1     12           1445            AA                60         0   \n",
       "550         1     12           1055            DL               158         0   \n",
       "\n",
       "     DepDelay  Distance  \n",
       "48         46      1197  \n",
       "307        13       215  \n",
       "409        14      1619  \n",
       "540         3       190  \n",
       "550        41       950  "
      ]
     },
     "execution_count": 7,
     "metadata": {},
     "output_type": "execute_result"
    }
   ],
   "source": [
    "fd.loc[(fd['Canceled'] == 1) & (fd['DepDelay'] > 0)]"
   ]
  },
  {
   "cell_type": "code",
   "execution_count": null,
   "id": "decreased-workshop",
   "metadata": {},
   "outputs": [],
   "source": [
    "#given we can see from the above EDA that both DepDelay and ArrDelay are 0 almost across the board for Canceled == 1 \n",
    "#flights, these are removed to reduce data leakage \n",
    "\n",
    "fd.drop(['ArrDelay', 'DepDelay'], axis = 1, inplace = True)\n",
    "fd.head()"
   ]
  },
  {
   "cell_type": "code",
   "execution_count": 10,
   "id": "nominated-hollywood",
   "metadata": {},
   "outputs": [
    {
     "data": {
      "text/plain": [
       "Canceled            0\n",
       "Month               0\n",
       "DepartureTime       0\n",
       "UniqueCarrier       0\n",
       "SchedElapsedTime    0\n",
       "Distance            0\n",
       "dtype: int64"
      ]
     },
     "execution_count": 10,
     "metadata": {},
     "output_type": "execute_result"
    }
   ],
   "source": [
    "#examine if there is any missing data that we should work on imputing \n",
    "\n",
    "fd.isna().sum()\n",
    "\n",
    "#good from a missing data standpoint "
   ]
  },
  {
   "cell_type": "code",
   "execution_count": null,
   "id": "center-bulgaria",
   "metadata": {},
   "outputs": [],
   "source": [
    "#checking for outliers \n",
    "\n",
    "def find_outliers(df, columns):\n",
    "    desc = df[columns].describe().reset_index() \n",
    "\n",
    "    iqrs = []\n",
    "    outliers = []\n",
    "    for x in range(len(columns)):\n",
    "        q3 = desc.iloc[6, x + 1]\n",
    "        q1 = desc.iloc[4, x + 1]\n",
    "        iqr = (desc.iloc[6, x + 1] - desc.iloc[4, x + 1]) * 1.5\n",
    "        iqrs.append([columns[x], iqr])\n",
    "        print(iqrs[x][1])\n",
    "        outliers.append([columns[x], [g for g in df[columns].iloc[:,x] if (g > q3 + iqrs[x][1]) | (g < q1 - iqrs[x][1])]])\n",
    "                \n",
    "    return outliers\n",
    "        \n",
    "find_outliers(fd, ['Distance','SchedElapsedTime','Month'])\n",
    "\n",
    "#from these results we can verify there are a few outliers that immediately jump out in the data, however only\n",
    "# a few of the >4000 values for Distance and >500 values for SchedElapsedTime really jump out, \n",
    "# and these might be important predictors for identifying the minor class cancelled flights later on, so keeping these for now"
   ]
  },
  {
   "cell_type": "code",
   "execution_count": 133,
   "id": "liquid-harvard",
   "metadata": {},
   "outputs": [
    {
     "data": {
      "text/plain": [
       "(array([  3.,  45., 144., 215., 175., 154., 176., 191., 165.,  82., 243.,\n",
       "        286., 271., 182., 306., 190., 157., 176., 218., 203., 152., 123.,\n",
       "        148., 140.,  95., 184.,  97.,  39.,  23.,  80.,  76.,  85.,  46.,\n",
       "         68., 100.,  38.,  26., 173.,  28.,  15.,  65.,  49.,  38.,  11.,\n",
       "          8.,  27.,  17.,  44.,   7.,  17.,  42.,  37.,  16.,  54.,  83.,\n",
       "          8.,  69.,  31.,   0.,  20.,   0.,   0.,   1.,   0.,   0.,   5.,\n",
       "          0.,   4.,   2.,   0.,   0.,   0.,   1.,   0.,   4.,   2.,   0.,\n",
       "          0.,   0.,   0.,   0.,   0.,   1.,   6.,   0.,   0.,   0.,   0.,\n",
       "          0.,   0.,   0.,   0.,   1.,   1.,   3.,   0.,   0.,   0.,   0.,\n",
       "          8.]),\n",
       " array([  68.  ,  112.34,  156.68,  201.02,  245.36,  289.7 ,  334.04,\n",
       "         378.38,  422.72,  467.06,  511.4 ,  555.74,  600.08,  644.42,\n",
       "         688.76,  733.1 ,  777.44,  821.78,  866.12,  910.46,  954.8 ,\n",
       "         999.14, 1043.48, 1087.82, 1132.16, 1176.5 , 1220.84, 1265.18,\n",
       "        1309.52, 1353.86, 1398.2 , 1442.54, 1486.88, 1531.22, 1575.56,\n",
       "        1619.9 , 1664.24, 1708.58, 1752.92, 1797.26, 1841.6 , 1885.94,\n",
       "        1930.28, 1974.62, 2018.96, 2063.3 , 2107.64, 2151.98, 2196.32,\n",
       "        2240.66, 2285.  , 2329.34, 2373.68, 2418.02, 2462.36, 2506.7 ,\n",
       "        2551.04, 2595.38, 2639.72, 2684.06, 2728.4 , 2772.74, 2817.08,\n",
       "        2861.42, 2905.76, 2950.1 , 2994.44, 3038.78, 3083.12, 3127.46,\n",
       "        3171.8 , 3216.14, 3260.48, 3304.82, 3349.16, 3393.5 , 3437.84,\n",
       "        3482.18, 3526.52, 3570.86, 3615.2 , 3659.54, 3703.88, 3748.22,\n",
       "        3792.56, 3836.9 , 3881.24, 3925.58, 3969.92, 4014.26, 4058.6 ,\n",
       "        4102.94, 4147.28, 4191.62, 4235.96, 4280.3 , 4324.64, 4368.98,\n",
       "        4413.32, 4457.66, 4502.  ]),\n",
       " <BarContainer object of 100 artists>)"
      ]
     },
     "execution_count": 133,
     "metadata": {},
     "output_type": "execute_result"
    },
    {
     "data": {
      "image/png": "[encoded data removed]",
      "text/plain": [
       "<Figure size 432x288 with 1 Axes>"
      ]
     },
     "metadata": {
      "needs_background": "light"
     },
     "output_type": "display_data"
    }
   ],
   "source": [
    "#visualizing Distance outliers \n",
    "plt.hist(fd['Distance'], bins = 100)"
   ]
  },
  {
   "cell_type": "code",
   "execution_count": 77,
   "id": "ambient-beads",
   "metadata": {},
   "outputs": [
    {
     "data": {
      "text/html": [
       "<div>\n",
       "<style scoped>\n",
       "    .dataframe tbody tr th:only-of-type {\n",
       "        vertical-align: middle;\n",
       "    }\n",
       "\n",
       "    .dataframe tbody tr th {\n",
       "        vertical-align: top;\n",
       "    }\n",
       "\n",
       "    .dataframe thead th {\n",
       "        text-align: right;\n",
       "    }\n",
       "</style>\n",
       "<table border=\"1\" class=\"dataframe\">\n",
       "  <thead>\n",
       "    <tr style=\"text-align: right;\">\n",
       "      <th></th>\n",
       "      <th>Canceled</th>\n",
       "      <th>Month</th>\n",
       "      <th>DepartureTime</th>\n",
       "      <th>UniqueCarrier</th>\n",
       "      <th>SchedElapsedTime</th>\n",
       "      <th>ArrDelay</th>\n",
       "      <th>DepDelay</th>\n",
       "      <th>Distance</th>\n",
       "      <th>Hourtime</th>\n",
       "    </tr>\n",
       "  </thead>\n",
       "  <tbody>\n",
       "    <tr>\n",
       "      <th>0</th>\n",
       "      <td>1</td>\n",
       "      <td>12</td>\n",
       "      <td>814</td>\n",
       "      <td>UA</td>\n",
       "      <td>134</td>\n",
       "      <td>0</td>\n",
       "      <td>0</td>\n",
       "      <td>679</td>\n",
       "      <td>8</td>\n",
       "    </tr>\n",
       "    <tr>\n",
       "      <th>1</th>\n",
       "      <td>1</td>\n",
       "      <td>12</td>\n",
       "      <td>830</td>\n",
       "      <td>DL</td>\n",
       "      <td>90</td>\n",
       "      <td>0</td>\n",
       "      <td>0</td>\n",
       "      <td>214</td>\n",
       "      <td>8</td>\n",
       "    </tr>\n",
       "    <tr>\n",
       "      <th>2</th>\n",
       "      <td>1</td>\n",
       "      <td>1</td>\n",
       "      <td>1835</td>\n",
       "      <td>UA</td>\n",
       "      <td>213</td>\n",
       "      <td>0</td>\n",
       "      <td>0</td>\n",
       "      <td>1605</td>\n",
       "      <td>18</td>\n",
       "    </tr>\n",
       "    <tr>\n",
       "      <th>3</th>\n",
       "      <td>1</td>\n",
       "      <td>4</td>\n",
       "      <td>1730</td>\n",
       "      <td>AA</td>\n",
       "      <td>80</td>\n",
       "      <td>0</td>\n",
       "      <td>0</td>\n",
       "      <td>235</td>\n",
       "      <td>17</td>\n",
       "    </tr>\n",
       "    <tr>\n",
       "      <th>4</th>\n",
       "      <td>1</td>\n",
       "      <td>7</td>\n",
       "      <td>1442</td>\n",
       "      <td>UA</td>\n",
       "      <td>103</td>\n",
       "      <td>0</td>\n",
       "      <td>0</td>\n",
       "      <td>413</td>\n",
       "      <td>14</td>\n",
       "    </tr>\n",
       "    <tr>\n",
       "      <th>...</th>\n",
       "      <td>...</td>\n",
       "      <td>...</td>\n",
       "      <td>...</td>\n",
       "      <td>...</td>\n",
       "      <td>...</td>\n",
       "      <td>...</td>\n",
       "      <td>...</td>\n",
       "      <td>...</td>\n",
       "      <td>...</td>\n",
       "    </tr>\n",
       "    <tr>\n",
       "      <th>5995</th>\n",
       "      <td>0</td>\n",
       "      <td>6</td>\n",
       "      <td>1725</td>\n",
       "      <td>AA</td>\n",
       "      <td>115</td>\n",
       "      <td>17</td>\n",
       "      <td>30</td>\n",
       "      <td>597</td>\n",
       "      <td>17</td>\n",
       "    </tr>\n",
       "    <tr>\n",
       "      <th>5996</th>\n",
       "      <td>0</td>\n",
       "      <td>9</td>\n",
       "      <td>1945</td>\n",
       "      <td>DL</td>\n",
       "      <td>127</td>\n",
       "      <td>-19</td>\n",
       "      <td>-9</td>\n",
       "      <td>752</td>\n",
       "      <td>19</td>\n",
       "    </tr>\n",
       "    <tr>\n",
       "      <th>5997</th>\n",
       "      <td>0</td>\n",
       "      <td>8</td>\n",
       "      <td>1850</td>\n",
       "      <td>DL</td>\n",
       "      <td>101</td>\n",
       "      <td>6</td>\n",
       "      <td>-4</td>\n",
       "      <td>481</td>\n",
       "      <td>18</td>\n",
       "    </tr>\n",
       "    <tr>\n",
       "      <th>5998</th>\n",
       "      <td>0</td>\n",
       "      <td>7</td>\n",
       "      <td>1720</td>\n",
       "      <td>AA</td>\n",
       "      <td>210</td>\n",
       "      <td>178</td>\n",
       "      <td>42</td>\n",
       "      <td>1302</td>\n",
       "      <td>17</td>\n",
       "    </tr>\n",
       "    <tr>\n",
       "      <th>5999</th>\n",
       "      <td>0</td>\n",
       "      <td>9</td>\n",
       "      <td>1955</td>\n",
       "      <td>AA</td>\n",
       "      <td>265</td>\n",
       "      <td>4</td>\n",
       "      <td>3</td>\n",
       "      <td>1721</td>\n",
       "      <td>19</td>\n",
       "    </tr>\n",
       "  </tbody>\n",
       "</table>\n",
       "<p>6000 rows × 9 columns</p>\n",
       "</div>"
      ],
      "text/plain": [
       "      Canceled  Month  DepartureTime UniqueCarrier  SchedElapsedTime  \\\n",
       "0            1     12            814            UA               134   \n",
       "1            1     12            830            DL                90   \n",
       "2            1      1           1835            UA               213   \n",
       "3            1      4           1730            AA                80   \n",
       "4            1      7           1442            UA               103   \n",
       "...        ...    ...            ...           ...               ...   \n",
       "5995         0      6           1725            AA               115   \n",
       "5996         0      9           1945            DL               127   \n",
       "5997         0      8           1850            DL               101   \n",
       "5998         0      7           1720            AA               210   \n",
       "5999         0      9           1955            AA               265   \n",
       "\n",
       "      ArrDelay  DepDelay  Distance  Hourtime  \n",
       "0            0         0       679         8  \n",
       "1            0         0       214         8  \n",
       "2            0         0      1605        18  \n",
       "3            0         0       235        17  \n",
       "4            0         0       413        14  \n",
       "...        ...       ...       ...       ...  \n",
       "5995        17        30       597        17  \n",
       "5996       -19        -9       752        19  \n",
       "5997         6        -4       481        18  \n",
       "5998       178        42      1302        17  \n",
       "5999         4         3      1721        19  \n",
       "\n",
       "[6000 rows x 9 columns]"
      ]
     },
     "execution_count": 77,
     "metadata": {},
     "output_type": "execute_result"
    }
   ],
   "source": [
    "#creating function to extract departing hourtime \n",
    "\n",
    "def extract_hour(hour):\n",
    "    hour = str(hour)\n",
    "    if len(hour) <= 2:\n",
    "        return 0\n",
    "    elif len(hour) == 3:\n",
    "        return int(hour[0])\n",
    "    else:\n",
    "        return int(hour[:2])\n",
    "\n",
    "fd['Hourtime'] = fd['DepartureTime'].apply(lambda x: extract_hour(x))"
   ]
  },
  {
   "cell_type": "code",
   "execution_count": 82,
   "id": "corresponding-italic",
   "metadata": {},
   "outputs": [
    {
     "data": {
      "text/html": [
       "<div>\n",
       "<style scoped>\n",
       "    .dataframe tbody tr th:only-of-type {\n",
       "        vertical-align: middle;\n",
       "    }\n",
       "\n",
       "    .dataframe tbody tr th {\n",
       "        vertical-align: top;\n",
       "    }\n",
       "\n",
       "    .dataframe thead th {\n",
       "        text-align: right;\n",
       "    }\n",
       "</style>\n",
       "<table border=\"1\" class=\"dataframe\">\n",
       "  <thead>\n",
       "    <tr style=\"text-align: right;\">\n",
       "      <th></th>\n",
       "      <th>Canceled</th>\n",
       "      <th>Month</th>\n",
       "      <th>DepartureTime</th>\n",
       "      <th>UniqueCarrier</th>\n",
       "      <th>SchedElapsedTime</th>\n",
       "      <th>ArrDelay</th>\n",
       "      <th>DepDelay</th>\n",
       "      <th>Distance</th>\n",
       "      <th>Hourtime</th>\n",
       "    </tr>\n",
       "  </thead>\n",
       "  <tbody>\n",
       "    <tr>\n",
       "      <th>1971</th>\n",
       "      <td>0</td>\n",
       "      <td>3</td>\n",
       "      <td>55</td>\n",
       "      <td>DL</td>\n",
       "      <td>157</td>\n",
       "      <td>-4</td>\n",
       "      <td>-3</td>\n",
       "      <td>1199</td>\n",
       "      <td>0</td>\n",
       "    </tr>\n",
       "    <tr>\n",
       "      <th>2020</th>\n",
       "      <td>0</td>\n",
       "      <td>6</td>\n",
       "      <td>50</td>\n",
       "      <td>DL</td>\n",
       "      <td>231</td>\n",
       "      <td>-32</td>\n",
       "      <td>-3</td>\n",
       "      <td>1678</td>\n",
       "      <td>0</td>\n",
       "    </tr>\n",
       "    <tr>\n",
       "      <th>2113</th>\n",
       "      <td>0</td>\n",
       "      <td>1</td>\n",
       "      <td>40</td>\n",
       "      <td>AA</td>\n",
       "      <td>170</td>\n",
       "      <td>-14</td>\n",
       "      <td>-9</td>\n",
       "      <td>1235</td>\n",
       "      <td>0</td>\n",
       "    </tr>\n",
       "    <tr>\n",
       "      <th>2626</th>\n",
       "      <td>0</td>\n",
       "      <td>3</td>\n",
       "      <td>5</td>\n",
       "      <td>UA</td>\n",
       "      <td>251</td>\n",
       "      <td>17</td>\n",
       "      <td>35</td>\n",
       "      <td>1956</td>\n",
       "      <td>0</td>\n",
       "    </tr>\n",
       "    <tr>\n",
       "      <th>2850</th>\n",
       "      <td>0</td>\n",
       "      <td>4</td>\n",
       "      <td>55</td>\n",
       "      <td>DL</td>\n",
       "      <td>254</td>\n",
       "      <td>-1</td>\n",
       "      <td>15</td>\n",
       "      <td>1946</td>\n",
       "      <td>0</td>\n",
       "    </tr>\n",
       "    <tr>\n",
       "      <th>3979</th>\n",
       "      <td>0</td>\n",
       "      <td>1</td>\n",
       "      <td>55</td>\n",
       "      <td>DL</td>\n",
       "      <td>158</td>\n",
       "      <td>-11</td>\n",
       "      <td>-12</td>\n",
       "      <td>1199</td>\n",
       "      <td>0</td>\n",
       "    </tr>\n",
       "    <tr>\n",
       "      <th>4277</th>\n",
       "      <td>0</td>\n",
       "      <td>1</td>\n",
       "      <td>30</td>\n",
       "      <td>DL</td>\n",
       "      <td>218</td>\n",
       "      <td>-9</td>\n",
       "      <td>-4</td>\n",
       "      <td>1589</td>\n",
       "      <td>0</td>\n",
       "    </tr>\n",
       "    <tr>\n",
       "      <th>4316</th>\n",
       "      <td>0</td>\n",
       "      <td>6</td>\n",
       "      <td>30</td>\n",
       "      <td>DL</td>\n",
       "      <td>227</td>\n",
       "      <td>-29</td>\n",
       "      <td>0</td>\n",
       "      <td>1589</td>\n",
       "      <td>0</td>\n",
       "    </tr>\n",
       "    <tr>\n",
       "      <th>4608</th>\n",
       "      <td>0</td>\n",
       "      <td>7</td>\n",
       "      <td>35</td>\n",
       "      <td>AA</td>\n",
       "      <td>210</td>\n",
       "      <td>-6</td>\n",
       "      <td>3</td>\n",
       "      <td>1515</td>\n",
       "      <td>0</td>\n",
       "    </tr>\n",
       "    <tr>\n",
       "      <th>4758</th>\n",
       "      <td>0</td>\n",
       "      <td>10</td>\n",
       "      <td>10</td>\n",
       "      <td>AA</td>\n",
       "      <td>165</td>\n",
       "      <td>6</td>\n",
       "      <td>2</td>\n",
       "      <td>1235</td>\n",
       "      <td>0</td>\n",
       "    </tr>\n",
       "    <tr>\n",
       "      <th>4769</th>\n",
       "      <td>0</td>\n",
       "      <td>1</td>\n",
       "      <td>55</td>\n",
       "      <td>DL</td>\n",
       "      <td>250</td>\n",
       "      <td>3</td>\n",
       "      <td>13</td>\n",
       "      <td>1946</td>\n",
       "      <td>0</td>\n",
       "    </tr>\n",
       "    <tr>\n",
       "      <th>5469</th>\n",
       "      <td>0</td>\n",
       "      <td>5</td>\n",
       "      <td>35</td>\n",
       "      <td>DL</td>\n",
       "      <td>204</td>\n",
       "      <td>32</td>\n",
       "      <td>12</td>\n",
       "      <td>1589</td>\n",
       "      <td>0</td>\n",
       "    </tr>\n",
       "  </tbody>\n",
       "</table>\n",
       "</div>"
      ],
      "text/plain": [
       "      Canceled  Month  DepartureTime UniqueCarrier  SchedElapsedTime  \\\n",
       "1971         0      3             55            DL               157   \n",
       "2020         0      6             50            DL               231   \n",
       "2113         0      1             40            AA               170   \n",
       "2626         0      3              5            UA               251   \n",
       "2850         0      4             55            DL               254   \n",
       "3979         0      1             55            DL               158   \n",
       "4277         0      1             30            DL               218   \n",
       "4316         0      6             30            DL               227   \n",
       "4608         0      7             35            AA               210   \n",
       "4758         0     10             10            AA               165   \n",
       "4769         0      1             55            DL               250   \n",
       "5469         0      5             35            DL               204   \n",
       "\n",
       "      ArrDelay  DepDelay  Distance  Hourtime  \n",
       "1971        -4        -3      1199         0  \n",
       "2020       -32        -3      1678         0  \n",
       "2113       -14        -9      1235         0  \n",
       "2626        17        35      1956         0  \n",
       "2850        -1        15      1946         0  \n",
       "3979       -11       -12      1199         0  \n",
       "4277        -9        -4      1589         0  \n",
       "4316       -29         0      1589         0  \n",
       "4608        -6         3      1515         0  \n",
       "4758         6         2      1235         0  \n",
       "4769         3        13      1946         0  \n",
       "5469        32        12      1589         0  "
      ]
     },
     "execution_count": 82,
     "metadata": {},
     "output_type": "execute_result"
    }
   ],
   "source": [
    "fd[fd['Hourtime'] == 0]"
   ]
  },
  {
   "cell_type": "code",
   "execution_count": null,
   "id": "governing-remains",
   "metadata": {},
   "outputs": [],
   "source": [
    "#comparing results from our function to more manual way of finding outliers for the Distance variable\n",
    "iqr1 = stats.iqr(fd['Distance']) * 1.5\n",
    "q1, q3 = fd['Distance'].quantile([0.25, 0.75])\n",
    "print(q1, q3, iqr1)\n",
    "print([g for g in fd['Distance'] if (g > q3 + iqr1) | (g < q1 - iqr1)])"
   ]
  },
  {
   "cell_type": "code",
   "execution_count": null,
   "id": "analyzed-deployment",
   "metadata": {},
   "outputs": [],
   "source": [
    "#Feature Engineering "
   ]
  },
  {
   "cell_type": "code",
   "execution_count": 98,
   "id": "central-fairy",
   "metadata": {},
   "outputs": [],
   "source": [
    "#creating new variable time to extract more information from DepartureTime variables \n",
    "\n",
    "fd['time'] = np.where((fd['DepartureTime'] >= 200) & (fd['DepartureTime'] < 700), 'aube', \n",
    "                     np.where((fd['DepartureTime'] >= 700) & (fd['DepartureTime'] < 1000), 'earlymorning',\n",
    "                     np.where((fd['DepartureTime'] >= 1000) & (fd['DepartureTime'] < 1200), 'latemorning',\n",
    "                     np.where((fd['DepartureTime'] >= 1200) & (fd['DepartureTime'] < 1500), 'earlyafternoon',\n",
    "                     np.where((fd['DepartureTime'] >= 1500) & (fd['DepartureTime'] < 1900), 'lateafternoon',\n",
    "                      np.where((fd['DepartureTime'] >= 1900) & (fd['DepartureTime'] < 2200), 'dinnertime', \n",
    "                      np.where((fd['DepartureTime'] >= 2200) | (fd['DepartureTime'] < 200), 'earlymorning', 'nothing')))))))\n",
    "\n",
    "\n",
    "#creating dummies for UniqueCarrier and time variables to be able to use in linear regression model \n",
    "\n",
    "fd = pd.get_dummies(fd, drop_first = True)\n"
   ]
  },
  {
   "cell_type": "code",
   "execution_count": 104,
   "id": "unknown-temperature",
   "metadata": {},
   "outputs": [
    {
     "data": {
      "text/plain": [
       "<AxesSubplot:>"
      ]
     },
     "execution_count": 104,
     "metadata": {},
     "output_type": "execute_result"
    },
    {
     "data": {
      "image/png": "[encoded data removed]",
      "text/plain": [
       "<Figure size 576x576 with 2 Axes>"
      ]
     },
     "metadata": {
      "needs_background": "light"
     },
     "output_type": "display_data"
    }
   ],
   "source": [
    "#looking at correlations in data \n",
    "data = fd.select_dtypes(include = ['int64','float64','uint8']).corr()\n",
    "plt.figure(figsize = (8,8))\n",
    "sns.heatmap(data = data, square = True, cmap = 'Blues')"
   ]
  },
  {
   "cell_type": "code",
   "execution_count": null,
   "id": "hybrid-final",
   "metadata": {},
   "outputs": [],
   "source": [
    "#little correlation between our variables indicates there is a relative paucity of linear relationships in this \n",
    "#dataset such that Logistic Regression, which is a linear model by nature, might not be the best model \n",
    "#for this dataset. However, we should still investigate Logistic Regression and look at a tree-based model \n",
    "#such as RandomForest Classifier and XGBoostClassifier. "
   ]
  },
  {
   "cell_type": "markdown",
   "id": "present-pound",
   "metadata": {},
   "source": [
    "#### LogisticRegression "
   ]
  },
  {
   "cell_type": "code",
   "execution_count": 112,
   "id": "supreme-guess",
   "metadata": {},
   "outputs": [
    {
     "data": {
      "text/plain": [
       "((4020, 12), (1980, 12), (4020,), (1980,))"
      ]
     },
     "execution_count": 112,
     "metadata": {},
     "output_type": "execute_result"
    }
   ],
   "source": [
    "#setting weights to correct class imbalance when training model \n",
    "w = {0: 1000, 1: 5000}\n",
    "lr = LogisticRegressionCV(cv = 5, class_weight = w, max_iter = 300)\n",
    "\n",
    "\n",
    "#splitting data\n",
    "x = fd.drop(['Canceled'], axis = 1)\n",
    "y = fd['Canceled']\n",
    "x_train, x_test, y_train, y_test = train_test_split(x, y, test_size = 0.33, random_state = 42)\n",
    "x_train.shape, x_test.shape, y_train.shape, y_test.shape\n"
   ]
  },
  {
   "cell_type": "code",
   "execution_count": 8,
   "id": "healthy-simon",
   "metadata": {},
   "outputs": [
    {
     "data": {
      "text/plain": [
       "LogisticRegressionCV(class_weight={0: 1000, 1: 5000}, cv=5, max_iter=300)"
      ]
     },
     "execution_count": 8,
     "metadata": {},
     "output_type": "execute_result"
    }
   ],
   "source": [
    "lr.fit(x_train, y_train)"
   ]
  },
  {
   "cell_type": "code",
   "execution_count": 9,
   "id": "appointed-mountain",
   "metadata": {},
   "outputs": [
    {
     "data": {
      "text/plain": [
       "0.6292929292929293"
      ]
     },
     "execution_count": 9,
     "metadata": {},
     "output_type": "execute_result"
    }
   ],
   "source": [
    "lr.score(x_test, y_test)"
   ]
  },
  {
   "cell_type": "code",
   "execution_count": 68,
   "id": "shaped-acoustic",
   "metadata": {},
   "outputs": [
    {
     "data": {
      "text/plain": [
       "array([0.67609967, 0.6624052 , 0.63496656, 0.53725137, 0.73025977])"
      ]
     },
     "execution_count": 68,
     "metadata": {},
     "output_type": "execute_result"
    }
   ],
   "source": [
    "cross_val_score(lr, x_test, y_test, cv = 5, scoring = 'roc_auc')"
   ]
  },
  {
   "cell_type": "code",
   "execution_count": 69,
   "id": "solid-wholesale",
   "metadata": {},
   "outputs": [
    {
     "data": {
      "text/plain": [
       "0.6481965169193911"
      ]
     },
     "execution_count": 69,
     "metadata": {},
     "output_type": "execute_result"
    }
   ],
   "source": [
    "cross_val_score(lr, x_test, y_test, cv = 5, scoring = 'roc_auc').mean()\n",
    "\n",
    "#given our Logistic Regression model does not perform very well on this data, turning to tree ensembling methods \n",
    "#to try and get better results "
   ]
  },
  {
   "cell_type": "code",
   "execution_count": 113,
   "id": "naughty-offering",
   "metadata": {},
   "outputs": [
    {
     "data": {
      "text/plain": [
       "RandomForestClassifier(class_weight={0: 1, 1: 5}, max_depth=4)"
      ]
     },
     "execution_count": 113,
     "metadata": {},
     "output_type": "execute_result"
    }
   ],
   "source": [
    "#RandomForestsClassifier \n",
    "rfc = RandomForestClassifier(n_estimators = 100, criterion = 'gini', max_depth = 4, class_weight = {0:1, 1:5})\n",
    "rfc.fit(x_train, y_train)"
   ]
  },
  {
   "cell_type": "code",
   "execution_count": 114,
   "id": "stuck-member",
   "metadata": {},
   "outputs": [
    {
     "data": {
      "text/plain": [
       "0.6748756218905473"
      ]
     },
     "execution_count": 114,
     "metadata": {},
     "output_type": "execute_result"
    }
   ],
   "source": [
    "rfc.score(x_train, y_train)"
   ]
  },
  {
   "cell_type": "code",
   "execution_count": 115,
   "id": "interracial-plant",
   "metadata": {},
   "outputs": [
    {
     "data": {
      "text/plain": [
       "0.6621212121212121"
      ]
     },
     "execution_count": 115,
     "metadata": {},
     "output_type": "execute_result"
    }
   ],
   "source": [
    "rfc.score(x_test, y_test)"
   ]
  },
  {
   "cell_type": "code",
   "execution_count": 35,
   "id": "royal-approach",
   "metadata": {},
   "outputs": [
    {
     "data": {
      "text/plain": [
       "array([0.7027519 , 0.68125677, 0.67504715, 0.5727452 , 0.71045525])"
      ]
     },
     "execution_count": 35,
     "metadata": {},
     "output_type": "execute_result"
    }
   ],
   "source": [
    "cross_val_score(rfc, x_test, y_test, cv = 5, scoring = 'roc_auc')"
   ]
  },
  {
   "cell_type": "code",
   "execution_count": 77,
   "id": "universal-freight",
   "metadata": {},
   "outputs": [
    {
     "data": {
      "text/plain": [
       "0.6692499788219664"
      ]
     },
     "execution_count": 77,
     "metadata": {},
     "output_type": "execute_result"
    }
   ],
   "source": [
    "cross_val_score(rfc, x_test, y_test, cv = 5, scoring = 'roc_auc').mean()\n",
    "\n",
    "#able to slightly improve classification accuracy by 2pts using RandomForests, but not much better "
   ]
  },
  {
   "cell_type": "code",
   "execution_count": 10,
   "id": "harmful-commodity",
   "metadata": {},
   "outputs": [
    {
     "data": {
      "text/plain": [
       "array([0.67406284, 0.66184182, 0.61096108, 0.54475309, 0.68164866])"
      ]
     },
     "execution_count": 10,
     "metadata": {},
     "output_type": "execute_result"
    }
   ],
   "source": [
    "#trying XGBoost to try to get better results \n",
    "\n",
    "xgb = XGBClassifier(scale_pos_weight=100, n_estimators = 300)\n",
    "xgb.fit(x_train, y_train)\n",
    "cross_val_score(xgb, x_test, y_test, scoring = 'roc_auc', cv = 5)\n"
   ]
  },
  {
   "cell_type": "code",
   "execution_count": 11,
   "id": "painted-silicon",
   "metadata": {},
   "outputs": [
    {
     "data": {
      "text/plain": [
       "0.6346534969020624"
      ]
     },
     "execution_count": 11,
     "metadata": {},
     "output_type": "execute_result"
    }
   ],
   "source": [
    "cross_val_score(xgb, x_test, y_test, scoring = 'roc_auc', cv = 5).mean()"
   ]
  },
  {
   "cell_type": "code",
   "execution_count": null,
   "id": "sporting-sound",
   "metadata": {},
   "outputs": [],
   "source": [
    "#XGB yields worst results than RandomForestClassifier"
   ]
  },
  {
   "cell_type": "code",
   "execution_count": 118,
   "id": "asian-lotus",
   "metadata": {},
   "outputs": [
    {
     "data": {
      "text/plain": [
       "<AxesSubplot:>"
      ]
     },
     "execution_count": 118,
     "metadata": {},
     "output_type": "execute_result"
    },
    {
     "data": {
      "image/png": "[encoded data removed]",
      "text/plain": [
       "<Figure size 432x288 with 2 Axes>"
      ]
     },
     "metadata": {
      "needs_background": "light"
     },
     "output_type": "display_data"
    }
   ],
   "source": [
    "#looking at relative strengths of our model \n",
    "\n",
    "rfc_predictions = rfc.predict(x_test)\n",
    "cm_rfc = confusion_matrix(rfc_predictions, y_test)\n",
    "sns.heatmap(cm_rfc, cmap = 'Blues', square = True)"
   ]
  },
  {
   "cell_type": "code",
   "execution_count": 123,
   "id": "accredited-chapel",
   "metadata": {},
   "outputs": [
    {
     "name": "stdout",
     "output_type": "stream",
     "text": [
      "[[1124  171]\n",
      " [ 498  187]]\n",
      "RF_pred: 0.35858101629913713\n"
     ]
    }
   ],
   "source": [
    "print(cm_rfc)\n",
    "print(\"RF_pred:\", f1_score(y_test,rfc_predictions))\n",
    "fpr_rf, tpr_rf, _ = roc_curve(y_test, rfc_predictions)\n",
    "#even adjusting for the class imbalance with class weights we can see that our model is still relatively poor \n",
    "# at predicting cancelled flights "
   ]
  },
  {
   "cell_type": "code",
   "execution_count": 128,
   "id": "honey-liechtenstein",
   "metadata": {},
   "outputs": [
    {
     "name": "stdout",
     "output_type": "stream",
     "text": [
      "[0.         0.30702836 1.        ] [0.         0.52234637 1.        ] [2 1 0]\n"
     ]
    }
   ],
   "source": [
    "print(fpr_rf, tpr_rf, _)"
   ]
  },
  {
   "cell_type": "code",
   "execution_count": 131,
   "id": "adverse-sound",
   "metadata": {},
   "outputs": [
    {
     "data": {
      "image/png": "[encoded data removed]",
      "text/plain": [
       "<Figure size 432x288 with 1 Axes>"
      ]
     },
     "metadata": {
      "needs_background": "light"
     },
     "output_type": "display_data"
    }
   ],
   "source": [
    "#visualizing ROC curve for our RandomForestClassifier model \n",
    "plt.figure(1)\n",
    "plt.plot([0, 1], [0, 1], 'k--')\n",
    "plt.plot(fpr_rf, tpr_rf, label='RF')\n",
    "plt.xlabel('False positive rate')\n",
    "plt.ylabel('True positive rate')\n",
    "plt.title('ROC curve')\n",
    "plt.legend(loc='best')\n",
    "plt.show()"
   ]
  },
  {
   "cell_type": "markdown",
   "id": "eastern-track",
   "metadata": {},
   "source": [
    "## Provide recommendation on which airline is most reliable."
   ]
  },
  {
   "cell_type": "code",
   "execution_count": 17,
   "id": "regular-willow",
   "metadata": {},
   "outputs": [],
   "source": [
    "#splitting data by airline to perform anova test \n",
    "\n",
    "fd2 = pd.read_csv('Data_Predicting_Flight_Delays.csv', sep = ',', names = columns_list)"
   ]
  },
  {
   "cell_type": "code",
   "execution_count": 19,
   "id": "religious-station",
   "metadata": {},
   "outputs": [
    {
     "data": {
      "text/html": [
       "<div>\n",
       "<style scoped>\n",
       "    .dataframe tbody tr th:only-of-type {\n",
       "        vertical-align: middle;\n",
       "    }\n",
       "\n",
       "    .dataframe tbody tr th {\n",
       "        vertical-align: top;\n",
       "    }\n",
       "\n",
       "    .dataframe thead th {\n",
       "        text-align: right;\n",
       "    }\n",
       "</style>\n",
       "<table border=\"1\" class=\"dataframe\">\n",
       "  <thead>\n",
       "    <tr style=\"text-align: right;\">\n",
       "      <th></th>\n",
       "      <th>UniqueCarrier</th>\n",
       "      <th>Canceled</th>\n",
       "    </tr>\n",
       "  </thead>\n",
       "  <tbody>\n",
       "    <tr>\n",
       "      <th>0</th>\n",
       "      <td>AA</td>\n",
       "      <td>0.199111</td>\n",
       "    </tr>\n",
       "    <tr>\n",
       "      <th>1</th>\n",
       "      <td>DL</td>\n",
       "      <td>0.111967</td>\n",
       "    </tr>\n",
       "    <tr>\n",
       "      <th>2</th>\n",
       "      <td>UA</td>\n",
       "      <td>0.173203</td>\n",
       "    </tr>\n",
       "  </tbody>\n",
       "</table>\n",
       "</div>"
      ],
      "text/plain": [
       "  UniqueCarrier  Canceled\n",
       "0            AA  0.199111\n",
       "1            DL  0.111967\n",
       "2            UA  0.173203"
      ]
     },
     "execution_count": 19,
     "metadata": {},
     "output_type": "execute_result"
    }
   ],
   "source": [
    "fd2.groupby('UniqueCarrier')['Canceled'].mean().reset_index() \n",
    "#initial investigation shows DL appears to be most reliable, but additional \n",
    "#statistical tests including one way anova and two sample t tests are needed to ascertain this "
   ]
  },
  {
   "cell_type": "code",
   "execution_count": 15,
   "id": "small-medium",
   "metadata": {},
   "outputs": [
    {
     "data": {
      "text/plain": [
       "array(['UA', 'DL', 'AA'], dtype=object)"
      ]
     },
     "execution_count": 15,
     "metadata": {},
     "output_type": "execute_result"
    }
   ],
   "source": [
    "fd2.UniqueCarrier.unique()"
   ]
  },
  {
   "cell_type": "code",
   "execution_count": 21,
   "id": "respected-passenger",
   "metadata": {},
   "outputs": [
    {
     "data": {
      "text/plain": [
       "3       1\n",
       "7       1\n",
       "8       1\n",
       "10      1\n",
       "11      1\n",
       "       ..\n",
       "5990    0\n",
       "5994    0\n",
       "5995    0\n",
       "5998    0\n",
       "5999    0\n",
       "Name: Canceled, Length: 2476, dtype: int64"
      ]
     },
     "execution_count": 21,
     "metadata": {},
     "output_type": "execute_result"
    }
   ],
   "source": [
    "UAdf = fd2.loc[fd2['UniqueCarrier'] == 'UA']['Canceled']\n",
    "DLdf = fd2.loc[fd2['UniqueCarrier'] == 'DL']['Canceled']\n",
    "AAdf = fd2.loc[fd2['UniqueCarrier'] == 'AA']['Canceled']"
   ]
  },
  {
   "cell_type": "code",
   "execution_count": 22,
   "id": "initial-flush",
   "metadata": {},
   "outputs": [
    {
     "data": {
      "text/plain": [
       "F_onewayResult(statistic=28.094481906711394, pvalue=7.170129477576311e-13)"
      ]
     },
     "execution_count": 22,
     "metadata": {},
     "output_type": "execute_result"
    }
   ],
   "source": [
    "\n",
    "f_oneway(UAdf, DLdf, AAdf)\n",
    "#able to see that we can reject the null hypothesis that are means are equal "
   ]
  },
  {
   "cell_type": "code",
   "execution_count": 23,
   "id": "adjusted-algorithm",
   "metadata": {},
   "outputs": [
    {
     "data": {
      "text/plain": [
       "Ttest_indResult(statistic=5.192625548418433, pvalue=2.190950774899341e-07)"
      ]
     },
     "execution_count": 23,
     "metadata": {},
     "output_type": "execute_result"
    }
   ],
   "source": [
    "stats.ttest_ind(UAdf,DLdf)"
   ]
  },
  {
   "cell_type": "code",
   "execution_count": 24,
   "id": "demanding-proceeding",
   "metadata": {},
   "outputs": [
    {
     "data": {
      "text/plain": [
       "Ttest_indResult(statistic=7.508766664457165, pvalue=7.260467076950107e-14)"
      ]
     },
     "execution_count": 24,
     "metadata": {},
     "output_type": "execute_result"
    }
   ],
   "source": [
    "stats.ttest_ind(AAdf,DLdf)"
   ]
  },
  {
   "cell_type": "code",
   "execution_count": 36,
   "id": "oriented-harbor",
   "metadata": {},
   "outputs": [
    {
     "data": {
      "text/plain": [
       "array([[1117,  158],\n",
       "       [ 505,  200]])"
      ]
     },
     "execution_count": 36,
     "metadata": {},
     "output_type": "execute_result"
    }
   ],
   "source": [
    "\n",
    "confusion_matrix(rfc.predict(x_test), y_test)"
   ]
  },
  {
   "cell_type": "code",
   "execution_count": 31,
   "id": "specified-trial",
   "metadata": {},
   "outputs": [
    {
     "data": {
      "text/plain": [
       "array([[1207,  201],\n",
       "       [ 415,  157]])"
      ]
     },
     "execution_count": 31,
     "metadata": {},
     "output_type": "execute_result"
    }
   ],
   "source": [
    "confusion_matrix(xgb.predict(x_test), y_test)"
   ]
  },
  {
   "cell_type": "code",
   "execution_count": 30,
   "id": "lucky-liver",
   "metadata": {},
   "outputs": [
    {
     "data": {
      "text/plain": [
       "array([[1038,  150],\n",
       "       [ 584,  208]])"
      ]
     },
     "execution_count": 30,
     "metadata": {},
     "output_type": "execute_result"
    }
   ],
   "source": [
    "confusion_matrix(lr.predict(x_test), y_test)"
   ]
  },
  {
   "cell_type": "code",
   "execution_count": null,
   "id": "adolescent-landscape",
   "metadata": {},
   "outputs": [],
   "source": [
    "#we can reject the null hypothesis from these two sample t tests that AAL and UAL \n",
    "#mean cancelation rates are identical to those of DAL, and can confidently recommend\n",
    "#DAL as the most reliable airline from a cancelation perspective "
   ]
  }
 ],
 "metadata": {
  "kernelspec": {
   "display_name": "Python 3",
   "language": "python",
   "name": "python3"
  },
  "language_info": {
   "codemirror_mode": {
    "name": "ipython",
    "version": 3
   },
   "file_extension": ".py",
   "mimetype": "text/x-python",
   "name": "python",
   "nbconvert_exporter": "python",
   "pygments_lexer": "ipython3",
   "version": "3.7.7"
  }
 },
 "nbformat": 4,
 "nbformat_minor": 5
}
